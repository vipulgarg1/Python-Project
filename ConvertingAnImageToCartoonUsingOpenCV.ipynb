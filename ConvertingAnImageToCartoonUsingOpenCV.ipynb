{
  "nbformat": 4,
  "nbformat_minor": 0,
  "metadata": {
    "colab": {
      "name": "ConvertingAnImageToCartoonUsingOpenCV.ipynb",
      "provenance": [],
      "private_outputs": true,
      "collapsed_sections": [],
      "toc_visible": true,
      "authorship_tag": "ABX9TyPezSigWuMLfHaRuKgIAuP/",
      "include_colab_link": true
    },
    "kernelspec": {
      "name": "python3",
      "display_name": "Python 3"
    }
  },
  "cells": [
    {
      "cell_type": "markdown",
      "metadata": {
        "id": "view-in-github",
        "colab_type": "text"
      },
      "source": [
        "<a href=\"https://colab.research.google.com/github/vipulgarg1/Python-Project/blob/master/ConvertingAnImageToCartoonUsingOpenCV.ipynb\" target=\"_parent\"><img src=\"https://colab.research.google.com/assets/colab-badge.svg\" alt=\"Open In Colab\"/></a>"
      ]
    },
    {
      "cell_type": "markdown",
      "metadata": {
        "id": "FnlDKO6SEdPM",
        "colab_type": "text"
      },
      "source": [
        "# **Converting An Image to Blur and Grey Background UsingOpenCV**\n",
        "\n",
        "\n"
      ]
    },
    {
      "cell_type": "code",
      "metadata": {
        "id": "B8rNTrNUEluZ",
        "colab_type": "code",
        "colab": {}
      },
      "source": [
        "import numpy as np\n",
        "import imageio\n",
        "import scipy.ndimage\n",
        "import cv2\n",
        "import os\n",
        "from IPython.display import Image"
      ],
      "execution_count": null,
      "outputs": []
    },
    {
      "cell_type": "code",
      "metadata": {
        "id": "wqoAN051E97e",
        "colab_type": "code",
        "colab": {}
      },
      "source": [
        "print(f\"previous directory was {os.getcwd()}...........\")\n",
        "os.chdir('/content/OpenCV')\n",
        "print(f\"new directory is now {os.getcwd()}........\")\n",
        "print('directory changed..........')"
      ],
      "execution_count": null,
      "outputs": []
    },
    {
      "cell_type": "code",
      "metadata": {
        "id": "jBw7uM7aa_zL",
        "colab_type": "code",
        "colab": {}
      },
      "source": [
        "image = \"./Images/Virat Kohli.jpg\"\n",
        "# imageio.imread(image)\n",
        "\n",
        "def rgb2grey(rgb):\n",
        "  return np.dot(rgb[...,:3],[0.289,0.5870,0.1140])  # it is 2 dimesnional array formula to convert image to grey scale.\n",
        "\n",
        "def dodge(front,back):\n",
        "    final_sketch = front * 255/(255 - back)\n",
        "    final_sketch[final_sketch > 255] = 255\n",
        "    final_sketch[back == 255] = 255\n",
        "\n",
        "    return final_sketch.astype('uint8')\n",
        "\n",
        "\n"
      ],
      "execution_count": null,
      "outputs": []
    },
    {
      "cell_type": "code",
      "metadata": {
        "id": "MDeAZ8zvh7kD",
        "colab_type": "code",
        "colab": {}
      },
      "source": [
        "image_read = imageio.imread(image)\n",
        "print('Input Image was....')\n",
        "Image('./Images/Virat Kohli.jpg')"
      ],
      "execution_count": null,
      "outputs": []
    },
    {
      "cell_type": "code",
      "metadata": {
        "id": "yiF3laCrd0Lh",
        "colab_type": "code",
        "colab": {}
      },
      "source": [
        "\n",
        "# print(image_read)\n",
        "grey = rgb2grey(image_read)\n",
        "\n",
        "i = 255 - grey\n",
        "\n",
        "blur = scipy.ndimage.filters.gaussian_filter(i,sigma=15)\n",
        "\n",
        "r = dodge(blur,grey)\n",
        "\n",
        "cv2.imwrite('./Images/GreyViratKohli.jpg',r)\n",
        "\n",
        "print('Final Output Image')\n",
        "Image('./Images/GreyViratKohli.jpg')"
      ],
      "execution_count": null,
      "outputs": []
    },
    {
      "cell_type": "code",
      "metadata": {
        "id": "JmkUPr_TJhWR",
        "colab_type": "code",
        "colab": {}
      },
      "source": [
        ""
      ],
      "execution_count": null,
      "outputs": []
    }
  ]
}